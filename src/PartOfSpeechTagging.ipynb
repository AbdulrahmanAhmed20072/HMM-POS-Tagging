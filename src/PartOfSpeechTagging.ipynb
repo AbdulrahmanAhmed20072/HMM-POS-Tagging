{
  "nbformat": 4,
  "nbformat_minor": 0,
  "metadata": {
    "colab": {
      "provenance": []
    },
    "kernelspec": {
      "name": "python3",
      "display_name": "Python 3"
    },
    "language_info": {
      "name": "python"
    }
  },
  "cells": [
    {
      "cell_type": "code",
      "execution_count": null,
      "metadata": {
        "id": "Ybqyd8Gmrtt7"
      },
      "outputs": [],
      "source": [
        "from utils_pos import get_word_tag, preprocess\n",
        "import pandas as pd\n",
        "from collections import defaultdict\n",
        "import numpy as np"
      ]
    },
    {
      "cell_type": "code",
      "source": [
        "# load the training corpus\n",
        "with open('WSJ_02-21.pos','r') as f:\n",
        "    training_corpus = f.readlines()\n",
        "\n",
        "print(training_corpus[:5])"
      ],
      "metadata": {
        "colab": {
          "base_uri": "https://localhost:8080/"
        },
        "collapsed": true,
        "id": "w9sSLNpULrrf",
        "outputId": "8b4f1a2d-fe9d-4606-8993-76e61fbf3718"
      },
      "execution_count": null,
      "outputs": [
        {
          "output_type": "stream",
          "name": "stdout",
          "text": [
            "['In\\tIN\\n', 'an\\tDT\\n', 'Oct.\\tNNP\\n', '19\\tCD\\n', 'review\\tNN\\n']\n"
          ]
        }
      ]
    },
    {
      "cell_type": "code",
      "source": [
        "# read the Hidden Markov Models vocabulary\n",
        "\n",
        "with open('hmm_vocab.txt','r') as f:\n",
        "    voc_l = f.read().split('\\n')\n",
        "\n",
        "print(voc_l[-10:])"
      ],
      "metadata": {
        "colab": {
          "base_uri": "https://localhost:8080/"
        },
        "id": "CFAsR7WBL8dc",
        "outputId": "34e354d5-dc2d-4040-bc14-4ed6689ebc17",
        "collapsed": true
      },
      "execution_count": null,
      "outputs": [
        {
          "output_type": "stream",
          "name": "stdout",
          "text": [
            "['zeros', 'zinc', 'zip', 'zombie', 'zone', 'zones', 'zoning', '{', '}', '']\n"
          ]
        }
      ]
    },
    {
      "cell_type": "code",
      "source": [
        "vocab = {}\n",
        "for i, word in enumerate(sorted(voc_l)):\n",
        "    vocab[word] = i"
      ],
      "metadata": {
        "collapsed": true,
        "id": "0Q6PfeerNMV9"
      },
      "execution_count": null,
      "outputs": []
    },
    {
      "cell_type": "code",
      "source": [
        "# load the test corpus\n",
        "with open(\"WSJ_24.pos\", 'r') as f:\n",
        "    y = f.readlines()\n",
        "y[:5]"
      ],
      "metadata": {
        "colab": {
          "base_uri": "https://localhost:8080/"
        },
        "id": "0b_VSusQPV8B",
        "outputId": "d501d6b2-c687-4926-c859-476b42a998ce"
      },
      "execution_count": null,
      "outputs": [
        {
          "output_type": "execute_result",
          "data": {
            "text/plain": [
              "['The\\tDT\\n', 'economy\\tNN\\n', \"'s\\tPOS\\n\", 'temperature\\tNN\\n', 'will\\tMD\\n']"
            ]
          },
          "metadata": {},
          "execution_count": 11
        }
      ]
    },
    {
      "cell_type": "code",
      "source": [
        "# test data after preprocessing\n",
        "_, preprocessed = preprocess(vocab, \"test.words\")\n",
        "print(len(preprocessed))"
      ],
      "metadata": {
        "id": "ceFulsD7PX51",
        "colab": {
          "base_uri": "https://localhost:8080/"
        },
        "outputId": "22763edd-f0ef-42e3-ecd1-de18133a9ac7"
      },
      "execution_count": null,
      "outputs": [
        {
          "output_type": "stream",
          "name": "stdout",
          "text": [
            "34199\n"
          ]
        }
      ]
    },
    {
      "cell_type": "code",
      "source": [
        "preprocessed[:5]"
      ],
      "metadata": {
        "colab": {
          "base_uri": "https://localhost:8080/"
        },
        "id": "ofwy7RzLQOzB",
        "outputId": "d2f7c695-2b2c-42e2-e9e5-914f89e9674a"
      },
      "execution_count": null,
      "outputs": [
        {
          "output_type": "execute_result",
          "data": {
            "text/plain": [
              "['The', 'economy', \"'s\", 'temperature', 'will']"
            ]
          },
          "metadata": {},
          "execution_count": 35
        }
      ]
    },
    {
      "cell_type": "code",
      "source": [
        "def create_dictionaries(training_corpus, vocab):\n",
        "\n",
        "    # used between pos and pos\n",
        "    transition_count = defaultdict(int)\n",
        "    # used between pos and word\n",
        "    emission_count = defaultdict(int)\n",
        "    tag_count = defaultdict(int)\n",
        "\n",
        "    prev_tag = '--s--'\n",
        "\n",
        "    for i, line in enumerate(training_corpus):\n",
        "\n",
        "        word, tag = get_word_tag(line, vocab)\n",
        "\n",
        "        transition_count[(prev_tag, tag)] += 1\n",
        "        emission_count[(tag, word)] += 1\n",
        "        tag_count[tag] += 1\n",
        "\n",
        "        prev_tag = tag\n",
        "\n",
        "    return transition_count, emission_count, tag_count"
      ],
      "metadata": {
        "id": "ydb0rRPPvM-v"
      },
      "execution_count": null,
      "outputs": []
    },
    {
      "cell_type": "code",
      "source": [
        "transition_count, emission_count, tag_count = create_dictionaries(training_corpus, vocab)"
      ],
      "metadata": {
        "id": "Hp-IN3IFzGHg"
      },
      "execution_count": null,
      "outputs": []
    },
    {
      "cell_type": "code",
      "source": [
        "len(transition_count), len(emission_count), len(tag_count)"
      ],
      "metadata": {
        "colab": {
          "base_uri": "https://localhost:8080/"
        },
        "id": "NPBTB6XCzOYL",
        "outputId": "39736242-cdc6-4cb2-e9bd-ab6849d8d58b"
      },
      "execution_count": null,
      "outputs": [
        {
          "output_type": "execute_result",
          "data": {
            "text/plain": [
              "(1421, 31140, 46)"
            ]
          },
          "metadata": {},
          "execution_count": 22
        }
      ]
    },
    {
      "cell_type": "code",
      "source": [
        "print(\"transition_count:\")\n",
        "print({k : v for k,v in list(transition_count.items())[:5]})\n",
        "print()\n",
        "print(\"emission_count:\")\n",
        "print({k : v for k,v in list(emission_count.items())[:5]})\n",
        "print()\n",
        "print(\"tag_count:\")\n",
        "print({k : v for k,v in list(tag_count.items())[:5]})"
      ],
      "metadata": {
        "colab": {
          "base_uri": "https://localhost:8080/"
        },
        "id": "KkSTpv-xR103",
        "outputId": "52fcf2d9-b192-4e16-d46d-8f89c789e1ac"
      },
      "execution_count": null,
      "outputs": [
        {
          "output_type": "stream",
          "name": "stdout",
          "text": [
            "transition_count:\n",
            "{('--s--', 'IN'): 5050, ('IN', 'DT'): 32364, ('DT', 'NNP'): 9044, ('NNP', 'CD'): 1752, ('CD', 'NN'): 7377}\n",
            "\n",
            "emission_count:\n",
            "{('IN', 'In'): 1735, ('DT', 'an'): 3142, ('NNP', 'Oct.'): 317, ('CD', '19'): 100, ('NN', 'review'): 36}\n",
            "\n",
            "tag_count:\n",
            "{'IN': 98554, 'DT': 81842, 'NNP': 91466, 'CD': 36568, 'NN': 132935}\n"
          ]
        }
      ]
    },
    {
      "cell_type": "code",
      "source": [
        "states = sorted(tag_count.keys())\n",
        "print(states[-5:])"
      ],
      "metadata": {
        "id": "Y5ySETTzKnNW",
        "colab": {
          "base_uri": "https://localhost:8080/"
        },
        "outputId": "4a534a72-e1ed-4cb9-cc9d-398d3cb25a6b"
      },
      "execution_count": null,
      "outputs": [
        {
          "output_type": "stream",
          "name": "stdout",
          "text": [
            "['WDT', 'WP', 'WP$', 'WRB', '``']\n"
          ]
        }
      ]
    },
    {
      "cell_type": "code",
      "source": [
        "def predict_pos(preprocessed, y, emission_count, vocab,states):\n",
        "\n",
        "    words_dict, res = defaultdict(int), []\n",
        "\n",
        "    for word in preprocessed:\n",
        "        for tag in states:\n",
        "\n",
        "            if emission_count.get((tag, word)):\n",
        "                if word not in words_dict:\n",
        "\n",
        "                    words_dict[word] = (tag,emission_count[(tag, word)])\n",
        "\n",
        "                else:\n",
        "                    if words_dict[word][1] < emission_count[(tag, word)]:\n",
        "                        words_dict[word] = (tag, emission_count[(tag, word)])\n",
        "\n",
        "    for i in y:\n",
        "\n",
        "        word,tag = get_word_tag(i,words_dict)\n",
        "        if word in words_dict:\n",
        "            res.append(tag == words_dict[word][0])\n",
        "\n",
        "    return sum(res) / len(y)"
      ],
      "metadata": {
        "id": "uoBXERJA1Km7"
      },
      "execution_count": null,
      "outputs": []
    },
    {
      "cell_type": "code",
      "source": [
        "predict_pos(preprocessed,y,emission_count,vocab, states)"
      ],
      "metadata": {
        "colab": {
          "base_uri": "https://localhost:8080/"
        },
        "id": "5TKg2m0DKhkM",
        "outputId": "99eb0bd1-8d85-48de-97ca-6253135436c1"
      },
      "execution_count": null,
      "outputs": [
        {
          "output_type": "execute_result",
          "data": {
            "text/plain": [
              "0.928185034650136"
            ]
          },
          "metadata": {},
          "execution_count": 37
        }
      ]
    },
    {
      "cell_type": "code",
      "source": [
        "def create_transition_matrix(alpha, states, transition_count):\n",
        "\n",
        "    # transition_matrix contains the proba between pos and pos\n",
        "    num_tags = len(states)\n",
        "    transition_matrix = np.zeros((num_tags, num_tags))\n",
        "\n",
        "    for i, tag_row in enumerate(states):\n",
        "        for j, tag_col in enumerate(states):\n",
        "\n",
        "            transition_matrix[i,j] = (transition_count[(tag_row, tag_col)] + alpha) / (tag_count[tag_row] + alpha * num_tags)\n",
        "\n",
        "    return transition_matrix"
      ],
      "metadata": {
        "id": "2pwlLdZG1Y7S"
      },
      "execution_count": null,
      "outputs": []
    },
    {
      "cell_type": "code",
      "source": [
        "# A is the transition matrix\n",
        "A = create_transition_matrix(.001,states,transition_count)\n",
        "A_df = pd.DataFrame(A, index = states, columns = states)"
      ],
      "metadata": {
        "id": "iWvlXIBFI-6Y"
      },
      "execution_count": null,
      "outputs": []
    },
    {
      "cell_type": "code",
      "source": [
        "A_df.iloc[30:35,30:35]"
      ],
      "metadata": {
        "colab": {
          "base_uri": "https://localhost:8080/",
          "height": 206
        },
        "id": "MTlnoVAgJxrS",
        "outputId": "bf3c2a18-d280-4f2c-9c60-5e8018f9d14b"
      },
      "execution_count": null,
      "outputs": [
        {
          "output_type": "execute_result",
          "data": {
            "text/plain": [
              "              RBS            RP           SYM        TO            UH\n",
              "RBS  2.217069e-06  2.217069e-06  2.217069e-06  0.008870  2.217069e-06\n",
              "RP   3.756509e-07  7.516775e-04  3.756509e-07  0.051089  3.756509e-07\n",
              "SYM  1.722772e-05  1.722772e-05  1.722772e-05  0.000017  1.722772e-05\n",
              "TO   4.477336e-05  4.472863e-08  4.472863e-08  0.000090  4.477336e-05\n",
              "UH   1.030439e-05  1.030439e-05  1.030439e-05  0.061837  3.092348e-02"
            ],
            "text/html": [
              "\n",
              "  <div id=\"df-d94933a2-0b68-4c00-9d07-c67509016128\" class=\"colab-df-container\">\n",
              "    <div>\n",
              "<style scoped>\n",
              "    .dataframe tbody tr th:only-of-type {\n",
              "        vertical-align: middle;\n",
              "    }\n",
              "\n",
              "    .dataframe tbody tr th {\n",
              "        vertical-align: top;\n",
              "    }\n",
              "\n",
              "    .dataframe thead th {\n",
              "        text-align: right;\n",
              "    }\n",
              "</style>\n",
              "<table border=\"1\" class=\"dataframe\">\n",
              "  <thead>\n",
              "    <tr style=\"text-align: right;\">\n",
              "      <th></th>\n",
              "      <th>RBS</th>\n",
              "      <th>RP</th>\n",
              "      <th>SYM</th>\n",
              "      <th>TO</th>\n",
              "      <th>UH</th>\n",
              "    </tr>\n",
              "  </thead>\n",
              "  <tbody>\n",
              "    <tr>\n",
              "      <th>RBS</th>\n",
              "      <td>2.217069e-06</td>\n",
              "      <td>2.217069e-06</td>\n",
              "      <td>2.217069e-06</td>\n",
              "      <td>0.008870</td>\n",
              "      <td>2.217069e-06</td>\n",
              "    </tr>\n",
              "    <tr>\n",
              "      <th>RP</th>\n",
              "      <td>3.756509e-07</td>\n",
              "      <td>7.516775e-04</td>\n",
              "      <td>3.756509e-07</td>\n",
              "      <td>0.051089</td>\n",
              "      <td>3.756509e-07</td>\n",
              "    </tr>\n",
              "    <tr>\n",
              "      <th>SYM</th>\n",
              "      <td>1.722772e-05</td>\n",
              "      <td>1.722772e-05</td>\n",
              "      <td>1.722772e-05</td>\n",
              "      <td>0.000017</td>\n",
              "      <td>1.722772e-05</td>\n",
              "    </tr>\n",
              "    <tr>\n",
              "      <th>TO</th>\n",
              "      <td>4.477336e-05</td>\n",
              "      <td>4.472863e-08</td>\n",
              "      <td>4.472863e-08</td>\n",
              "      <td>0.000090</td>\n",
              "      <td>4.477336e-05</td>\n",
              "    </tr>\n",
              "    <tr>\n",
              "      <th>UH</th>\n",
              "      <td>1.030439e-05</td>\n",
              "      <td>1.030439e-05</td>\n",
              "      <td>1.030439e-05</td>\n",
              "      <td>0.061837</td>\n",
              "      <td>3.092348e-02</td>\n",
              "    </tr>\n",
              "  </tbody>\n",
              "</table>\n",
              "</div>\n",
              "    <div class=\"colab-df-buttons\">\n",
              "\n",
              "  <div class=\"colab-df-container\">\n",
              "    <button class=\"colab-df-convert\" onclick=\"convertToInteractive('df-d94933a2-0b68-4c00-9d07-c67509016128')\"\n",
              "            title=\"Convert this dataframe to an interactive table.\"\n",
              "            style=\"display:none;\">\n",
              "\n",
              "  <svg xmlns=\"http://www.w3.org/2000/svg\" height=\"24px\" viewBox=\"0 -960 960 960\">\n",
              "    <path d=\"M120-120v-720h720v720H120Zm60-500h600v-160H180v160Zm220 220h160v-160H400v160Zm0 220h160v-160H400v160ZM180-400h160v-160H180v160Zm440 0h160v-160H620v160ZM180-180h160v-160H180v160Zm440 0h160v-160H620v160Z\"/>\n",
              "  </svg>\n",
              "    </button>\n",
              "\n",
              "  <style>\n",
              "    .colab-df-container {\n",
              "      display:flex;\n",
              "      gap: 12px;\n",
              "    }\n",
              "\n",
              "    .colab-df-convert {\n",
              "      background-color: #E8F0FE;\n",
              "      border: none;\n",
              "      border-radius: 50%;\n",
              "      cursor: pointer;\n",
              "      display: none;\n",
              "      fill: #1967D2;\n",
              "      height: 32px;\n",
              "      padding: 0 0 0 0;\n",
              "      width: 32px;\n",
              "    }\n",
              "\n",
              "    .colab-df-convert:hover {\n",
              "      background-color: #E2EBFA;\n",
              "      box-shadow: 0px 1px 2px rgba(60, 64, 67, 0.3), 0px 1px 3px 1px rgba(60, 64, 67, 0.15);\n",
              "      fill: #174EA6;\n",
              "    }\n",
              "\n",
              "    .colab-df-buttons div {\n",
              "      margin-bottom: 4px;\n",
              "    }\n",
              "\n",
              "    [theme=dark] .colab-df-convert {\n",
              "      background-color: #3B4455;\n",
              "      fill: #D2E3FC;\n",
              "    }\n",
              "\n",
              "    [theme=dark] .colab-df-convert:hover {\n",
              "      background-color: #434B5C;\n",
              "      box-shadow: 0px 1px 3px 1px rgba(0, 0, 0, 0.15);\n",
              "      filter: drop-shadow(0px 1px 2px rgba(0, 0, 0, 0.3));\n",
              "      fill: #FFFFFF;\n",
              "    }\n",
              "  </style>\n",
              "\n",
              "    <script>\n",
              "      const buttonEl =\n",
              "        document.querySelector('#df-d94933a2-0b68-4c00-9d07-c67509016128 button.colab-df-convert');\n",
              "      buttonEl.style.display =\n",
              "        google.colab.kernel.accessAllowed ? 'block' : 'none';\n",
              "\n",
              "      async function convertToInteractive(key) {\n",
              "        const element = document.querySelector('#df-d94933a2-0b68-4c00-9d07-c67509016128');\n",
              "        const dataTable =\n",
              "          await google.colab.kernel.invokeFunction('convertToInteractive',\n",
              "                                                    [key], {});\n",
              "        if (!dataTable) return;\n",
              "\n",
              "        const docLinkHtml = 'Like what you see? Visit the ' +\n",
              "          '<a target=\"_blank\" href=https://colab.research.google.com/notebooks/data_table.ipynb>data table notebook</a>'\n",
              "          + ' to learn more about interactive tables.';\n",
              "        element.innerHTML = '';\n",
              "        dataTable['output_type'] = 'display_data';\n",
              "        await google.colab.output.renderOutput(dataTable, element);\n",
              "        const docLink = document.createElement('div');\n",
              "        docLink.innerHTML = docLinkHtml;\n",
              "        element.appendChild(docLink);\n",
              "      }\n",
              "    </script>\n",
              "  </div>\n",
              "\n",
              "\n",
              "<div id=\"df-a38d336f-b89a-470a-bbde-4bde673c2150\">\n",
              "  <button class=\"colab-df-quickchart\" onclick=\"quickchart('df-a38d336f-b89a-470a-bbde-4bde673c2150')\"\n",
              "            title=\"Suggest charts\"\n",
              "            style=\"display:none;\">\n",
              "\n",
              "<svg xmlns=\"http://www.w3.org/2000/svg\" height=\"24px\"viewBox=\"0 0 24 24\"\n",
              "     width=\"24px\">\n",
              "    <g>\n",
              "        <path d=\"M19 3H5c-1.1 0-2 .9-2 2v14c0 1.1.9 2 2 2h14c1.1 0 2-.9 2-2V5c0-1.1-.9-2-2-2zM9 17H7v-7h2v7zm4 0h-2V7h2v10zm4 0h-2v-4h2v4z\"/>\n",
              "    </g>\n",
              "</svg>\n",
              "  </button>\n",
              "\n",
              "<style>\n",
              "  .colab-df-quickchart {\n",
              "      --bg-color: #E8F0FE;\n",
              "      --fill-color: #1967D2;\n",
              "      --hover-bg-color: #E2EBFA;\n",
              "      --hover-fill-color: #174EA6;\n",
              "      --disabled-fill-color: #AAA;\n",
              "      --disabled-bg-color: #DDD;\n",
              "  }\n",
              "\n",
              "  [theme=dark] .colab-df-quickchart {\n",
              "      --bg-color: #3B4455;\n",
              "      --fill-color: #D2E3FC;\n",
              "      --hover-bg-color: #434B5C;\n",
              "      --hover-fill-color: #FFFFFF;\n",
              "      --disabled-bg-color: #3B4455;\n",
              "      --disabled-fill-color: #666;\n",
              "  }\n",
              "\n",
              "  .colab-df-quickchart {\n",
              "    background-color: var(--bg-color);\n",
              "    border: none;\n",
              "    border-radius: 50%;\n",
              "    cursor: pointer;\n",
              "    display: none;\n",
              "    fill: var(--fill-color);\n",
              "    height: 32px;\n",
              "    padding: 0;\n",
              "    width: 32px;\n",
              "  }\n",
              "\n",
              "  .colab-df-quickchart:hover {\n",
              "    background-color: var(--hover-bg-color);\n",
              "    box-shadow: 0 1px 2px rgba(60, 64, 67, 0.3), 0 1px 3px 1px rgba(60, 64, 67, 0.15);\n",
              "    fill: var(--button-hover-fill-color);\n",
              "  }\n",
              "\n",
              "  .colab-df-quickchart-complete:disabled,\n",
              "  .colab-df-quickchart-complete:disabled:hover {\n",
              "    background-color: var(--disabled-bg-color);\n",
              "    fill: var(--disabled-fill-color);\n",
              "    box-shadow: none;\n",
              "  }\n",
              "\n",
              "  .colab-df-spinner {\n",
              "    border: 2px solid var(--fill-color);\n",
              "    border-color: transparent;\n",
              "    border-bottom-color: var(--fill-color);\n",
              "    animation:\n",
              "      spin 1s steps(1) infinite;\n",
              "  }\n",
              "\n",
              "  @keyframes spin {\n",
              "    0% {\n",
              "      border-color: transparent;\n",
              "      border-bottom-color: var(--fill-color);\n",
              "      border-left-color: var(--fill-color);\n",
              "    }\n",
              "    20% {\n",
              "      border-color: transparent;\n",
              "      border-left-color: var(--fill-color);\n",
              "      border-top-color: var(--fill-color);\n",
              "    }\n",
              "    30% {\n",
              "      border-color: transparent;\n",
              "      border-left-color: var(--fill-color);\n",
              "      border-top-color: var(--fill-color);\n",
              "      border-right-color: var(--fill-color);\n",
              "    }\n",
              "    40% {\n",
              "      border-color: transparent;\n",
              "      border-right-color: var(--fill-color);\n",
              "      border-top-color: var(--fill-color);\n",
              "    }\n",
              "    60% {\n",
              "      border-color: transparent;\n",
              "      border-right-color: var(--fill-color);\n",
              "    }\n",
              "    80% {\n",
              "      border-color: transparent;\n",
              "      border-right-color: var(--fill-color);\n",
              "      border-bottom-color: var(--fill-color);\n",
              "    }\n",
              "    90% {\n",
              "      border-color: transparent;\n",
              "      border-bottom-color: var(--fill-color);\n",
              "    }\n",
              "  }\n",
              "</style>\n",
              "\n",
              "  <script>\n",
              "    async function quickchart(key) {\n",
              "      const quickchartButtonEl =\n",
              "        document.querySelector('#' + key + ' button');\n",
              "      quickchartButtonEl.disabled = true;  // To prevent multiple clicks.\n",
              "      quickchartButtonEl.classList.add('colab-df-spinner');\n",
              "      try {\n",
              "        const charts = await google.colab.kernel.invokeFunction(\n",
              "            'suggestCharts', [key], {});\n",
              "      } catch (error) {\n",
              "        console.error('Error during call to suggestCharts:', error);\n",
              "      }\n",
              "      quickchartButtonEl.classList.remove('colab-df-spinner');\n",
              "      quickchartButtonEl.classList.add('colab-df-quickchart-complete');\n",
              "    }\n",
              "    (() => {\n",
              "      let quickchartButtonEl =\n",
              "        document.querySelector('#df-a38d336f-b89a-470a-bbde-4bde673c2150 button');\n",
              "      quickchartButtonEl.style.display =\n",
              "        google.colab.kernel.accessAllowed ? 'block' : 'none';\n",
              "    })();\n",
              "  </script>\n",
              "</div>\n",
              "\n",
              "    </div>\n",
              "  </div>\n"
            ],
            "application/vnd.google.colaboratory.intrinsic+json": {
              "type": "dataframe",
              "summary": "{\n  \"name\": \"A_df\",\n  \"rows\": 5,\n  \"fields\": [\n    {\n      \"column\": \"RBS\",\n      \"properties\": {\n        \"dtype\": \"number\",\n        \"std\": 1.796341477085625e-05,\n        \"min\": 3.756509091127652e-07,\n        \"max\": 4.477335690949511e-05,\n        \"num_unique_values\": 5,\n        \"samples\": [\n          3.756509091127652e-07,\n          1.0304391731756074e-05,\n          1.7227715949419426e-05\n        ],\n        \"semantic_type\": \"\",\n        \"description\": \"\"\n      }\n    },\n    {\n      \"column\": \"RP\",\n      \"properties\": {\n        \"dtype\": \"number\",\n        \"std\": 0.0003328991618876954,\n        \"min\": 4.4728628281213896e-08,\n        \"max\": 0.0007516774691346431,\n        \"num_unique_values\": 5,\n        \"samples\": [\n          0.0007516774691346431,\n          1.0304391731756074e-05,\n          1.7227715949419426e-05\n        ],\n        \"semantic_type\": \"\",\n        \"description\": \"\"\n      }\n    },\n    {\n      \"column\": \"SYM\",\n      \"properties\": {\n        \"dtype\": \"number\",\n        \"std\": 7.516527993026893e-06,\n        \"min\": 4.4728628281213896e-08,\n        \"max\": 1.7227715949419426e-05,\n        \"num_unique_values\": 5,\n        \"samples\": [\n          3.756509091127652e-07,\n          1.0304391731756074e-05,\n          1.7227715949419426e-05\n        ],\n        \"semantic_type\": \"\",\n        \"description\": \"\"\n      }\n    },\n    {\n      \"column\": \"TO\",\n      \"properties\": {\n        \"dtype\": \"number\",\n        \"std\": 0.029750983548077488,\n        \"min\": 1.7227715949419426e-05,\n        \"max\": 0.0618366547822682,\n        \"num_unique_values\": 5,\n        \"samples\": [\n          0.051088899290245175,\n          0.0618366547822682,\n          1.7227715949419426e-05\n        ],\n        \"semantic_type\": \"\",\n        \"description\": \"\"\n      }\n    },\n    {\n      \"column\": \"UH\",\n      \"properties\": {\n        \"dtype\": \"number\",\n        \"std\": 0.013822190111526132,\n        \"min\": 3.756509091127652e-07,\n        \"max\": 0.030923479586999977,\n        \"num_unique_values\": 5,\n        \"samples\": [\n          3.756509091127652e-07,\n          0.030923479586999977,\n          1.7227715949419426e-05\n        ],\n        \"semantic_type\": \"\",\n        \"description\": \"\"\n      }\n    }\n  ]\n}"
            }
          },
          "metadata": {},
          "execution_count": 46
        }
      ]
    },
    {
      "cell_type": "code",
      "source": [
        "def create_emission_matrix(alpha, emission_count, states, vocab):\n",
        "\n",
        "    num_words = len(vocab)\n",
        "    num_tags = len(states)\n",
        "    B = np.zeros((num_tags , num_words))\n",
        "\n",
        "    for i in range(num_tags):\n",
        "        for j in range(num_words):\n",
        "\n",
        "            pair = (states[i], vocab[j])\n",
        "            B[i, j] = (emission_count[pair] + alpha) / (tag_count[states[i]] + alpha * num_tags)\n",
        "\n",
        "    return B"
      ],
      "metadata": {
        "id": "jo8mrv_PPyvg"
      },
      "execution_count": null,
      "outputs": []
    },
    {
      "cell_type": "code",
      "source": [
        "B = create_emission_matrix(0.001, emission_count, states, list(vocab))\n",
        "B_df = pd.DataFrame(B, index=states , columns = list(vocab))"
      ],
      "metadata": {
        "collapsed": true,
        "id": "b9hwKWHUVaaG"
      },
      "execution_count": null,
      "outputs": []
    },
    {
      "cell_type": "code",
      "source": [
        "B_df.iloc[35:40,35:40]"
      ],
      "metadata": {
        "colab": {
          "base_uri": "https://localhost:8080/",
          "height": 206
        },
        "id": "nAULu_qpX_0v",
        "outputId": "f0283cd3-3596-4e5b-b5ad-a1bec3b8f965"
      },
      "execution_count": null,
      "outputs": [
        {
          "output_type": "execute_result",
          "data": {
            "text/plain": [
              "     --unk_noun--  --unk_punct--  --unk_upper--  --unk_verb--             .\n",
              "VB   1.021293e-03       0.000567       0.002572  3.858114e-03  3.782428e-08\n",
              "VBD  3.345707e-08       0.000335       0.001104  3.345707e-08  3.345707e-08\n",
              "VBG  4.715128e-03       0.001078       0.010373  6.735800e-08  6.735800e-08\n",
              "VBN  4.993996e-08       0.000949       0.004644  4.993996e-08  4.993996e-08\n",
              "VBP  8.006535e-04       0.000400       0.001201  7.205962e-04  8.005735e-08"
            ],
            "text/html": [
              "\n",
              "  <div id=\"df-d6ecd076-9f76-4e74-9c6d-26696fc3cf06\" class=\"colab-df-container\">\n",
              "    <div>\n",
              "<style scoped>\n",
              "    .dataframe tbody tr th:only-of-type {\n",
              "        vertical-align: middle;\n",
              "    }\n",
              "\n",
              "    .dataframe tbody tr th {\n",
              "        vertical-align: top;\n",
              "    }\n",
              "\n",
              "    .dataframe thead th {\n",
              "        text-align: right;\n",
              "    }\n",
              "</style>\n",
              "<table border=\"1\" class=\"dataframe\">\n",
              "  <thead>\n",
              "    <tr style=\"text-align: right;\">\n",
              "      <th></th>\n",
              "      <th>--unk_noun--</th>\n",
              "      <th>--unk_punct--</th>\n",
              "      <th>--unk_upper--</th>\n",
              "      <th>--unk_verb--</th>\n",
              "      <th>.</th>\n",
              "    </tr>\n",
              "  </thead>\n",
              "  <tbody>\n",
              "    <tr>\n",
              "      <th>VB</th>\n",
              "      <td>1.021293e-03</td>\n",
              "      <td>0.000567</td>\n",
              "      <td>0.002572</td>\n",
              "      <td>3.858114e-03</td>\n",
              "      <td>3.782428e-08</td>\n",
              "    </tr>\n",
              "    <tr>\n",
              "      <th>VBD</th>\n",
              "      <td>3.345707e-08</td>\n",
              "      <td>0.000335</td>\n",
              "      <td>0.001104</td>\n",
              "      <td>3.345707e-08</td>\n",
              "      <td>3.345707e-08</td>\n",
              "    </tr>\n",
              "    <tr>\n",
              "      <th>VBG</th>\n",
              "      <td>4.715128e-03</td>\n",
              "      <td>0.001078</td>\n",
              "      <td>0.010373</td>\n",
              "      <td>6.735800e-08</td>\n",
              "      <td>6.735800e-08</td>\n",
              "    </tr>\n",
              "    <tr>\n",
              "      <th>VBN</th>\n",
              "      <td>4.993996e-08</td>\n",
              "      <td>0.000949</td>\n",
              "      <td>0.004644</td>\n",
              "      <td>4.993996e-08</td>\n",
              "      <td>4.993996e-08</td>\n",
              "    </tr>\n",
              "    <tr>\n",
              "      <th>VBP</th>\n",
              "      <td>8.006535e-04</td>\n",
              "      <td>0.000400</td>\n",
              "      <td>0.001201</td>\n",
              "      <td>7.205962e-04</td>\n",
              "      <td>8.005735e-08</td>\n",
              "    </tr>\n",
              "  </tbody>\n",
              "</table>\n",
              "</div>\n",
              "    <div class=\"colab-df-buttons\">\n",
              "\n",
              "  <div class=\"colab-df-container\">\n",
              "    <button class=\"colab-df-convert\" onclick=\"convertToInteractive('df-d6ecd076-9f76-4e74-9c6d-26696fc3cf06')\"\n",
              "            title=\"Convert this dataframe to an interactive table.\"\n",
              "            style=\"display:none;\">\n",
              "\n",
              "  <svg xmlns=\"http://www.w3.org/2000/svg\" height=\"24px\" viewBox=\"0 -960 960 960\">\n",
              "    <path d=\"M120-120v-720h720v720H120Zm60-500h600v-160H180v160Zm220 220h160v-160H400v160Zm0 220h160v-160H400v160ZM180-400h160v-160H180v160Zm440 0h160v-160H620v160ZM180-180h160v-160H180v160Zm440 0h160v-160H620v160Z\"/>\n",
              "  </svg>\n",
              "    </button>\n",
              "\n",
              "  <style>\n",
              "    .colab-df-container {\n",
              "      display:flex;\n",
              "      gap: 12px;\n",
              "    }\n",
              "\n",
              "    .colab-df-convert {\n",
              "      background-color: #E8F0FE;\n",
              "      border: none;\n",
              "      border-radius: 50%;\n",
              "      cursor: pointer;\n",
              "      display: none;\n",
              "      fill: #1967D2;\n",
              "      height: 32px;\n",
              "      padding: 0 0 0 0;\n",
              "      width: 32px;\n",
              "    }\n",
              "\n",
              "    .colab-df-convert:hover {\n",
              "      background-color: #E2EBFA;\n",
              "      box-shadow: 0px 1px 2px rgba(60, 64, 67, 0.3), 0px 1px 3px 1px rgba(60, 64, 67, 0.15);\n",
              "      fill: #174EA6;\n",
              "    }\n",
              "\n",
              "    .colab-df-buttons div {\n",
              "      margin-bottom: 4px;\n",
              "    }\n",
              "\n",
              "    [theme=dark] .colab-df-convert {\n",
              "      background-color: #3B4455;\n",
              "      fill: #D2E3FC;\n",
              "    }\n",
              "\n",
              "    [theme=dark] .colab-df-convert:hover {\n",
              "      background-color: #434B5C;\n",
              "      box-shadow: 0px 1px 3px 1px rgba(0, 0, 0, 0.15);\n",
              "      filter: drop-shadow(0px 1px 2px rgba(0, 0, 0, 0.3));\n",
              "      fill: #FFFFFF;\n",
              "    }\n",
              "  </style>\n",
              "\n",
              "    <script>\n",
              "      const buttonEl =\n",
              "        document.querySelector('#df-d6ecd076-9f76-4e74-9c6d-26696fc3cf06 button.colab-df-convert');\n",
              "      buttonEl.style.display =\n",
              "        google.colab.kernel.accessAllowed ? 'block' : 'none';\n",
              "\n",
              "      async function convertToInteractive(key) {\n",
              "        const element = document.querySelector('#df-d6ecd076-9f76-4e74-9c6d-26696fc3cf06');\n",
              "        const dataTable =\n",
              "          await google.colab.kernel.invokeFunction('convertToInteractive',\n",
              "                                                    [key], {});\n",
              "        if (!dataTable) return;\n",
              "\n",
              "        const docLinkHtml = 'Like what you see? Visit the ' +\n",
              "          '<a target=\"_blank\" href=https://colab.research.google.com/notebooks/data_table.ipynb>data table notebook</a>'\n",
              "          + ' to learn more about interactive tables.';\n",
              "        element.innerHTML = '';\n",
              "        dataTable['output_type'] = 'display_data';\n",
              "        await google.colab.output.renderOutput(dataTable, element);\n",
              "        const docLink = document.createElement('div');\n",
              "        docLink.innerHTML = docLinkHtml;\n",
              "        element.appendChild(docLink);\n",
              "      }\n",
              "    </script>\n",
              "  </div>\n",
              "\n",
              "\n",
              "<div id=\"df-0567d300-22fb-42da-99f7-74b7346f3718\">\n",
              "  <button class=\"colab-df-quickchart\" onclick=\"quickchart('df-0567d300-22fb-42da-99f7-74b7346f3718')\"\n",
              "            title=\"Suggest charts\"\n",
              "            style=\"display:none;\">\n",
              "\n",
              "<svg xmlns=\"http://www.w3.org/2000/svg\" height=\"24px\"viewBox=\"0 0 24 24\"\n",
              "     width=\"24px\">\n",
              "    <g>\n",
              "        <path d=\"M19 3H5c-1.1 0-2 .9-2 2v14c0 1.1.9 2 2 2h14c1.1 0 2-.9 2-2V5c0-1.1-.9-2-2-2zM9 17H7v-7h2v7zm4 0h-2V7h2v10zm4 0h-2v-4h2v4z\"/>\n",
              "    </g>\n",
              "</svg>\n",
              "  </button>\n",
              "\n",
              "<style>\n",
              "  .colab-df-quickchart {\n",
              "      --bg-color: #E8F0FE;\n",
              "      --fill-color: #1967D2;\n",
              "      --hover-bg-color: #E2EBFA;\n",
              "      --hover-fill-color: #174EA6;\n",
              "      --disabled-fill-color: #AAA;\n",
              "      --disabled-bg-color: #DDD;\n",
              "  }\n",
              "\n",
              "  [theme=dark] .colab-df-quickchart {\n",
              "      --bg-color: #3B4455;\n",
              "      --fill-color: #D2E3FC;\n",
              "      --hover-bg-color: #434B5C;\n",
              "      --hover-fill-color: #FFFFFF;\n",
              "      --disabled-bg-color: #3B4455;\n",
              "      --disabled-fill-color: #666;\n",
              "  }\n",
              "\n",
              "  .colab-df-quickchart {\n",
              "    background-color: var(--bg-color);\n",
              "    border: none;\n",
              "    border-radius: 50%;\n",
              "    cursor: pointer;\n",
              "    display: none;\n",
              "    fill: var(--fill-color);\n",
              "    height: 32px;\n",
              "    padding: 0;\n",
              "    width: 32px;\n",
              "  }\n",
              "\n",
              "  .colab-df-quickchart:hover {\n",
              "    background-color: var(--hover-bg-color);\n",
              "    box-shadow: 0 1px 2px rgba(60, 64, 67, 0.3), 0 1px 3px 1px rgba(60, 64, 67, 0.15);\n",
              "    fill: var(--button-hover-fill-color);\n",
              "  }\n",
              "\n",
              "  .colab-df-quickchart-complete:disabled,\n",
              "  .colab-df-quickchart-complete:disabled:hover {\n",
              "    background-color: var(--disabled-bg-color);\n",
              "    fill: var(--disabled-fill-color);\n",
              "    box-shadow: none;\n",
              "  }\n",
              "\n",
              "  .colab-df-spinner {\n",
              "    border: 2px solid var(--fill-color);\n",
              "    border-color: transparent;\n",
              "    border-bottom-color: var(--fill-color);\n",
              "    animation:\n",
              "      spin 1s steps(1) infinite;\n",
              "  }\n",
              "\n",
              "  @keyframes spin {\n",
              "    0% {\n",
              "      border-color: transparent;\n",
              "      border-bottom-color: var(--fill-color);\n",
              "      border-left-color: var(--fill-color);\n",
              "    }\n",
              "    20% {\n",
              "      border-color: transparent;\n",
              "      border-left-color: var(--fill-color);\n",
              "      border-top-color: var(--fill-color);\n",
              "    }\n",
              "    30% {\n",
              "      border-color: transparent;\n",
              "      border-left-color: var(--fill-color);\n",
              "      border-top-color: var(--fill-color);\n",
              "      border-right-color: var(--fill-color);\n",
              "    }\n",
              "    40% {\n",
              "      border-color: transparent;\n",
              "      border-right-color: var(--fill-color);\n",
              "      border-top-color: var(--fill-color);\n",
              "    }\n",
              "    60% {\n",
              "      border-color: transparent;\n",
              "      border-right-color: var(--fill-color);\n",
              "    }\n",
              "    80% {\n",
              "      border-color: transparent;\n",
              "      border-right-color: var(--fill-color);\n",
              "      border-bottom-color: var(--fill-color);\n",
              "    }\n",
              "    90% {\n",
              "      border-color: transparent;\n",
              "      border-bottom-color: var(--fill-color);\n",
              "    }\n",
              "  }\n",
              "</style>\n",
              "\n",
              "  <script>\n",
              "    async function quickchart(key) {\n",
              "      const quickchartButtonEl =\n",
              "        document.querySelector('#' + key + ' button');\n",
              "      quickchartButtonEl.disabled = true;  // To prevent multiple clicks.\n",
              "      quickchartButtonEl.classList.add('colab-df-spinner');\n",
              "      try {\n",
              "        const charts = await google.colab.kernel.invokeFunction(\n",
              "            'suggestCharts', [key], {});\n",
              "      } catch (error) {\n",
              "        console.error('Error during call to suggestCharts:', error);\n",
              "      }\n",
              "      quickchartButtonEl.classList.remove('colab-df-spinner');\n",
              "      quickchartButtonEl.classList.add('colab-df-quickchart-complete');\n",
              "    }\n",
              "    (() => {\n",
              "      let quickchartButtonEl =\n",
              "        document.querySelector('#df-0567d300-22fb-42da-99f7-74b7346f3718 button');\n",
              "      quickchartButtonEl.style.display =\n",
              "        google.colab.kernel.accessAllowed ? 'block' : 'none';\n",
              "    })();\n",
              "  </script>\n",
              "</div>\n",
              "\n",
              "    </div>\n",
              "  </div>\n"
            ],
            "application/vnd.google.colaboratory.intrinsic+json": {
              "type": "dataframe",
              "summary": "{\n  \"name\": \"B_df\",\n  \"rows\": 5,\n  \"fields\": [\n    {\n      \"column\": \"--unk_noun--\",\n      \"properties\": {\n        \"dtype\": \"number\",\n        \"std\": 0.001960205811538895,\n        \"min\": 3.345707320334012e-08,\n        \"max\": 0.004715127516107656,\n        \"num_unique_values\": 5,\n        \"samples\": [\n          3.345707320334012e-08,\n          0.0008006535241324064,\n          0.004715127516107656\n        ],\n        \"semantic_type\": \"\",\n        \"description\": \"\"\n      }\n    },\n    {\n      \"column\": \"--unk_punct--\",\n      \"properties\": {\n        \"dtype\": \"number\",\n        \"std\": 0.00033155640643085587,\n        \"min\": 0.00033460418910660446,\n        \"max\": 0.0010777953941406352,\n        \"num_unique_values\": 5,\n        \"samples\": [\n          0.00033460418910660446,\n          0.00040036679073954256,\n          0.0010777953941406352\n        ],\n        \"semantic_type\": \"\",\n        \"description\": \"\"\n      }\n    },\n    {\n      \"column\": \"--unk_upper--\",\n      \"properties\": {\n        \"dtype\": \"number\",\n        \"std\": 0.0038500195804562687,\n        \"min\": 0.0011041168727834272,\n        \"max\": 0.010373199705834132,\n        \"num_unique_values\": 5,\n        \"samples\": [\n          0.0011041168727834272,\n          0.0012009402575252704,\n          0.010373199705834132\n        ],\n        \"semantic_type\": \"\",\n        \"description\": \"\"\n      }\n    },\n    {\n      \"column\": \"--unk_verb--\",\n      \"properties\": {\n        \"dtype\": \"number\",\n        \"std\": 0.0016741497865346555,\n        \"min\": 3.345707320334012e-08,\n        \"max\": 0.0038581141737933284,\n        \"num_unique_values\": 5,\n        \"samples\": [\n          3.345707320334012e-08,\n          0.0007205961774538336,\n          6.735800225864853e-08\n        ],\n        \"semantic_type\": \"\",\n        \"description\": \"\"\n      }\n    },\n    {\n      \"column\": \".\",\n      \"properties\": {\n        \"dtype\": \"number\",\n        \"std\": 1.973068405340927e-08,\n        \"min\": 3.345707320334012e-08,\n        \"max\": 8.00573466785728e-08,\n        \"num_unique_values\": 5,\n        \"samples\": [\n          3.345707320334012e-08,\n          8.00573466785728e-08,\n          6.735800225864853e-08\n        ],\n        \"semantic_type\": \"\",\n        \"description\": \"\"\n      }\n    }\n  ]\n}"
            }
          },
          "metadata": {},
          "execution_count": 51
        }
      ]
    },
    {
      "cell_type": "code",
      "source": [
        "def initialize(states, tag_count, A, B, corpus, vocab):\n",
        "\n",
        "    # this func used to fill the first column of best_probs\n",
        "\n",
        "    num_tags = len(states)\n",
        "    num_words = len(preprocessed)\n",
        "    best_probs = np.zeros((num_tags, num_words))\n",
        "    best_paths = np.zeros((num_tags, num_words), dtype= int)\n",
        "    s_idx = states.index('--s--')\n",
        "\n",
        "    for i in range(num_tags):\n",
        "\n",
        "        word_idx = corpus.index(corpus[0])\n",
        "\n",
        "        pos_pos = A[(s_idx, i)]\n",
        "        pos_word = B[(i, word_idx)]\n",
        "\n",
        "        best_probs[i,0] = np.log(pos_pos) + np.log(pos_word)\n",
        "\n",
        "    return best_probs, best_paths"
      ],
      "metadata": {
        "id": "gBhd0xovbAbS"
      },
      "execution_count": null,
      "outputs": []
    },
    {
      "cell_type": "code",
      "source": [
        "best_probs, best_paths = initialize(states, tag_count, A, B, preprocessed, vocab)"
      ],
      "metadata": {
        "id": "MsXrm6hCkkUC"
      },
      "execution_count": null,
      "outputs": []
    },
    {
      "cell_type": "code",
      "source": [
        "# num_tags * num_words\n",
        "best_probs.shape"
      ],
      "metadata": {
        "colab": {
          "base_uri": "https://localhost:8080/"
        },
        "id": "7nU2F0FRNaDX",
        "outputId": "f331ff07-05a2-49d0-93bb-ae4373376ff9"
      },
      "execution_count": null,
      "outputs": [
        {
          "output_type": "execute_result",
          "data": {
            "text/plain": [
              "(46, 34199)"
            ]
          },
          "metadata": {},
          "execution_count": 56
        }
      ]
    },
    {
      "cell_type": "code",
      "source": [
        "def viterbi_forward(A,B, best_probs, best_paths, vocab, corpus):\n",
        "\n",
        "    # this func used to fill all best_probs\n",
        "\n",
        "    num_tags = A.shape[0] # tags * words\n",
        "\n",
        "    # for each word, we get the proba for the 46 tags\n",
        "    for word in range(1, len(corpus)):\n",
        "        for tag in range(num_tags):\n",
        "\n",
        "            # the previous word, get max proba in column\n",
        "            prev_max_proba = best_probs[:, word-1].max()\n",
        "            prev_idx = best_probs[:, word-1].argmax()\n",
        "\n",
        "            transition_proba = A[prev_idx, tag]\n",
        "            emission_proba = B[tag, vocab[preprocessed[word]]]\n",
        "\n",
        "            best_probs[tag, word] = prev_max_proba + np.log(transition_proba) + np.log(emission_proba)\n",
        "\n",
        "        cur_idx = best_probs[:, word].argmax()\n",
        "        best_paths[cur_idx, word] = prev_idx\n",
        "\n",
        "    return best_probs, best_paths"
      ],
      "metadata": {
        "id": "cT1Lev7sRnDD"
      },
      "execution_count": null,
      "outputs": []
    },
    {
      "cell_type": "code",
      "source": [
        "best_probs_f, best_paths_f = viterbi_forward(A,B, best_probs, best_paths, vocab, preprocessed)"
      ],
      "metadata": {
        "id": "_ZTgG7mV8miw"
      },
      "execution_count": null,
      "outputs": []
    },
    {
      "cell_type": "code",
      "source": [
        "print(best_paths_f[:10])"
      ],
      "metadata": {
        "colab": {
          "base_uri": "https://localhost:8080/"
        },
        "id": "0WicYy7Z8rro",
        "outputId": "e2a41d89-a9bc-49a3-fcaa-279802b6da34"
      },
      "execution_count": null,
      "outputs": [
        {
          "output_type": "stream",
          "name": "stdout",
          "text": [
            "[[ 0  0  0 ...  0  0  0]\n",
            " [ 0  0  0 ...  0  0  0]\n",
            " [ 0  0  0 ...  0  0  0]\n",
            " ...\n",
            " [ 0  0  0 ...  0 26  0]\n",
            " [ 0  0  0 ...  0  0  0]\n",
            " [ 0  0  0 ...  0  0  0]]\n"
          ]
        }
      ]
    },
    {
      "cell_type": "code",
      "source": [
        "print(best_probs_f[:,4])"
      ],
      "metadata": {
        "colab": {
          "base_uri": "https://localhost:8080/"
        },
        "id": "7VNpDFhpCR_j",
        "outputId": "3e88e721-2636-4cba-ab8f-6981488f1d31"
      },
      "execution_count": null,
      "outputs": [
        {
          "output_type": "stream",
          "name": "stdout",
          "text": [
            "[-65.33686954 -66.45342627 -63.38551974 -62.93745037 -62.85029235\n",
            " -62.23615147 -67.4771228  -62.07644453 -62.23367702 -62.56956877\n",
            " -64.90295236 -65.58340568 -65.06218242 -64.58383033 -62.17195408\n",
            " -65.03349759 -64.19423937 -66.85650816 -71.56691683 -47.57162998\n",
            " -53.17784413 -65.3310501  -66.4803496  -62.83009473 -66.29434592\n",
            " -62.17206387 -64.481085   -66.52764438 -63.61908302 -62.69979056\n",
            " -64.7879488  -64.65713732 -63.74905712 -62.52213671 -72.55730602\n",
            " -59.12241821 -62.62972187 -63.76016966 -63.71642548 -64.25715582\n",
            " -62.39046396 -62.49333539 -63.04297671 -63.02050791 -62.97915487\n",
            " -64.18218987]\n"
          ]
        }
      ]
    },
    {
      "cell_type": "code",
      "source": [
        "# Test this function\n",
        "print(f\"best_probs[0,1]: {best_probs_f[0,1]:.4f}\")\n",
        "print(f\"best_probs[0,4]: {best_probs_f[0,4]:.4f}\")"
      ],
      "metadata": {
        "colab": {
          "base_uri": "https://localhost:8080/"
        },
        "id": "v4yoBB4IfhVG",
        "outputId": "074d77e6-0ef5-4638-fe71-b999424ee486"
      },
      "execution_count": null,
      "outputs": [
        {
          "output_type": "stream",
          "name": "stdout",
          "text": [
            "best_probs[0,1]: -40.5657\n",
            "best_probs[0,4]: -65.3369\n"
          ]
        }
      ]
    },
    {
      "cell_type": "code",
      "source": [
        "def viterbi_backward(best_probs, best_paths, corpus, states):\n",
        "\n",
        "    # predict the most likely sequence of pos tags for a specific sequence of words\n",
        "\n",
        "    res = [None] * best_paths.shape[1]\n",
        "    res[-1] = states[best_probs[:,-1].argmax()]\n",
        "\n",
        "    for i in range(best_paths.shape[1]-2,-1,-1):\n",
        "\n",
        "        res[i] = states[best_paths[:, i].argmax()]\n",
        "\n",
        "    return res"
      ],
      "metadata": {
        "id": "m88lcTx8hOtf"
      },
      "execution_count": null,
      "outputs": []
    },
    {
      "cell_type": "code",
      "source": [
        "pred = viterbi_backward(best_probs_f, best_paths_f , preprocessed, states)"
      ],
      "metadata": {
        "id": "ka0PN3mH4U2-"
      },
      "execution_count": null,
      "outputs": []
    },
    {
      "cell_type": "code",
      "source": [
        "for i in range(10):\n",
        "    print(pred[i],y[i].split()[1])"
      ],
      "metadata": {
        "colab": {
          "base_uri": "https://localhost:8080/"
        },
        "id": "eO3xE1EK6q30",
        "outputId": "1795a634-53fb-4ecd-a435-e6c552e01453"
      },
      "execution_count": null,
      "outputs": [
        {
          "output_type": "stream",
          "name": "stdout",
          "text": [
            "# DT\n",
            "NN NN\n",
            "POS POS\n",
            "NN NN\n",
            "MD MD\n",
            "VB VB\n",
            "VBN VBN\n",
            "IN IN\n",
            "JJ JJ\n",
            "NNS NN\n"
          ]
        }
      ]
    },
    {
      "cell_type": "code",
      "source": [
        "m=len(pred)\n",
        "print('The prediction for pred[-7:m-1] is: \\n', preprocessed[-7:m-1], \"\\n\", pred[-7:m-1], \"\\n\")"
      ],
      "metadata": {
        "colab": {
          "base_uri": "https://localhost:8080/"
        },
        "id": "n0DsePln41Hi",
        "outputId": "5d22af4d-e041-47ca-dda1-bee456d5bdc4"
      },
      "execution_count": null,
      "outputs": [
        {
          "output_type": "stream",
          "name": "stdout",
          "text": [
            "The prediction for pred[-7:m-1] is: \n",
            " ['see', 'them', 'here', 'with', 'us', '.'] \n",
            " ['VB', 'PRP', 'RB', 'IN', 'PRP', '.'] \n",
            "\n"
          ]
        }
      ]
    },
    {
      "cell_type": "code",
      "source": [
        "print('The third word is:', preprocessed[3])\n",
        "print('Your prediction is:', pred[3])\n",
        "print('Your corresponding label y is: ', y[3])"
      ],
      "metadata": {
        "colab": {
          "base_uri": "https://localhost:8080/"
        },
        "id": "Tiy2E2-Z5BOu",
        "outputId": "7c0d3825-60a6-4ccb-860a-e1e0eeeb2a3b"
      },
      "execution_count": null,
      "outputs": [
        {
          "output_type": "stream",
          "name": "stdout",
          "text": [
            "The third word is: temperature\n",
            "Your prediction is: NN\n",
            "Your corresponding label y is:  temperature\tNN\n",
            "\n"
          ]
        }
      ]
    },
    {
      "cell_type": "code",
      "source": [
        "def compute_accuracy(pred, y):\n",
        "\n",
        "    num_correct = 0\n",
        "    total = 0\n",
        "    for prediction, y in zip(pred, y):\n",
        "        # Split the label into the word and the POS tag\n",
        "        word_tag_tuple = y.split()\n",
        "\n",
        "        # Check that word and tag are not none\n",
        "        if len(word_tag_tuple)==2:\n",
        "\n",
        "            word, tag = word_tag_tuple\n",
        "\n",
        "            if prediction == tag:\n",
        "                num_correct += 1\n",
        "\n",
        "            total += 1\n",
        "\n",
        "    return (num_correct/total)"
      ],
      "metadata": {
        "id": "5YKd6Yyx5KvK"
      },
      "execution_count": null,
      "outputs": []
    },
    {
      "cell_type": "code",
      "source": [
        "print(f\"Accuracy of the Viterbi algorithm is {compute_accuracy(pred, y):.4f}\")"
      ],
      "metadata": {
        "colab": {
          "base_uri": "https://localhost:8080/"
        },
        "id": "nW3oWJoV5ZAL",
        "outputId": "edfbdec9-e9e7-469d-b08d-b847a114d10a"
      },
      "execution_count": null,
      "outputs": [
        {
          "output_type": "stream",
          "name": "stdout",
          "text": [
            "Accuracy of the Viterbi algorithm is 0.9442\n"
          ]
        }
      ]
    },
    {
      "cell_type": "code",
      "source": [],
      "metadata": {
        "id": "pr4_OZMsfd7z"
      },
      "execution_count": null,
      "outputs": []
    }
  ]
}